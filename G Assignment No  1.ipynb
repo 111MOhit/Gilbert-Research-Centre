{
 "cells": [
  {
   "cell_type": "code",
   "execution_count": 1,
   "id": "8b59cd23-35dc-458e-9b79-585c9f29727e",
   "metadata": {},
   "outputs": [
    {
     "name": "stdout",
     "output_type": "stream",
     "text": [
      "Remaining amount in salary account: 6139.260689999999\n",
      "Amount spent on children's education: 6140.8575\n",
      "Amount spent on insurance: 2374.4649\n"
     ]
    }
   ],
   "source": [
    "# Question No 1\n",
    "\n",
    "salary = 20000\n",
    "salary_increase_percentage = 57\n",
    "leave_percentage = 19.45\n",
    "friend_amount = 2000\n",
    "house_rent = 4000\n",
    "medical_fee_percentage = 13.33\n",
    "insurance_fee_percentage = 8.7\n",
    "food_cost = 5000\n",
    "education_percentage = 22.5\n",
    "\n",
    "# Calculate the increased salary\n",
    "increased_salary = salary + (salary * salary_increase_percentage / 100)\n",
    "\n",
    "# Calculate the reduced salary after taking leave\n",
    "reduced_salary = increased_salary - (increased_salary * leave_percentage / 100)\n",
    "\n",
    "# Calculate the total amount in salary account after receiving money from friend\n",
    "total_amount = reduced_salary + friend_amount\n",
    "\n",
    "# Calculate the amount spent on medical fee\n",
    "medical_fee = total_amount * medical_fee_percentage / 100\n",
    "\n",
    "# Calculate the amount spent on insurance fee\n",
    "insurance_fee = total_amount * insurance_fee_percentage / 100\n",
    "\n",
    "# Calculate the amount spent on children's education\n",
    "education_expense = total_amount * education_percentage / 100\n",
    "\n",
    "# Calculate the remaining amount in salary account after deducting expenses\n",
    "remaining_amount = total_amount - (house_rent + medical_fee + insurance_fee + food_cost + education_expense)\n",
    "\n",
    "# Print the results\n",
    "print(\"Remaining amount in salary account:\", remaining_amount)\n",
    "print(\"Amount spent on children's education:\", education_expense)\n",
    "print(\"Amount spent on insurance:\", insurance_fee)\n"
   ]
  },
  {
   "cell_type": "code",
   "execution_count": 2,
   "id": "847f7991-e1c2-4f04-a6e8-3d5a660831f4",
   "metadata": {},
   "outputs": [
    {
     "name": "stdout",
     "output_type": "stream",
     "text": [
      "Summation of total amount up to the 46th year: 4620.7\n"
     ]
    }
   ],
   "source": [
    "# Question No 2\n",
    "principal_amount = 100\n",
    "interest_rate = 0.02\n",
    "years = 46\n",
    "\n",
    "total_amount = years / 2 * (2 * principal_amount + (years - 1) * interest_rate)\n",
    "\n",
    "print(\"Summation of total amount up to the 46th year:\", total_amount)\n"
   ]
  },
  {
   "cell_type": "code",
   "execution_count": null,
   "id": "3a979f56-ee63-4ee9-8575-978c854552f3",
   "metadata": {},
   "outputs": [],
   "source": []
  }
 ],
 "metadata": {
  "kernelspec": {
   "display_name": "Python 3 (ipykernel)",
   "language": "python",
   "name": "python3"
  },
  "language_info": {
   "codemirror_mode": {
    "name": "ipython",
    "version": 3
   },
   "file_extension": ".py",
   "mimetype": "text/x-python",
   "name": "python",
   "nbconvert_exporter": "python",
   "pygments_lexer": "ipython3",
   "version": "3.10.6"
  }
 },
 "nbformat": 4,
 "nbformat_minor": 5
}
